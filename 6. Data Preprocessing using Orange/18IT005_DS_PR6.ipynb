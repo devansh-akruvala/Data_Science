{
  "nbformat": 4,
  "nbformat_minor": 0,
  "metadata": {
    "colab": {
      "name": "18IT005_DS_PR6.ipynb",
      "provenance": []
    },
    "kernelspec": {
      "name": "python3",
      "display_name": "Python 3"
    },
    "language_info": {
      "name": "python"
    }
  },
  "cells": [
    {
      "cell_type": "code",
      "metadata": {
        "colab": {
          "base_uri": "https://localhost:8080/"
        },
        "id": "eKWIJP_MiL60",
        "outputId": "5ca7b7e5-da49-4aa2-8699-8ab04efe87dd"
      },
      "source": [
        "pip install orange3"
      ],
      "execution_count": 3,
      "outputs": [
        {
          "output_type": "stream",
          "name": "stdout",
          "text": [
            "Collecting orange3\n",
            "  Downloading Orange3-3.29.3-cp37-cp37m-manylinux_2_5_x86_64.manylinux1_x86_64.whl (25.3 MB)\n",
            "\u001b[K     |████████████████████████████████| 25.3 MB 94 kB/s \n",
            "\u001b[?25hRequirement already satisfied: scipy>=0.16.1 in /usr/local/lib/python3.7/dist-packages (from orange3) (1.4.1)\n",
            "Requirement already satisfied: scikit-learn!=0.23.0,>=0.22.0 in /usr/local/lib/python3.7/dist-packages (from orange3) (0.22.2.post1)\n",
            "Collecting AnyQt>=0.0.11\n",
            "  Downloading AnyQt-0.0.13-py3-none-any.whl (47 kB)\n",
            "\u001b[K     |████████████████████████████████| 47 kB 4.5 MB/s \n",
            "\u001b[?25hCollecting baycomp>=1.0.2\n",
            "  Downloading baycomp-1.0.2-py3-none-any.whl (17 kB)\n",
            "Requirement already satisfied: chardet>=3.0.2 in /usr/local/lib/python3.7/dist-packages (from orange3) (3.0.4)\n",
            "Collecting xlsxwriter\n",
            "  Downloading XlsxWriter-3.0.1-py3-none-any.whl (148 kB)\n",
            "\u001b[K     |████████████████████████████████| 148 kB 54.9 MB/s \n",
            "\u001b[?25hRequirement already satisfied: pip>=9.0 in /usr/local/lib/python3.7/dist-packages (from orange3) (21.1.3)\n",
            "Requirement already satisfied: matplotlib>=2.0.0 in /usr/local/lib/python3.7/dist-packages (from orange3) (3.2.2)\n",
            "Requirement already satisfied: pyyaml in /usr/local/lib/python3.7/dist-packages (from orange3) (3.13)\n",
            "Requirement already satisfied: requests in /usr/local/lib/python3.7/dist-packages (from orange3) (2.23.0)\n",
            "Collecting PyQtWebEngine>=5.12\n",
            "  Downloading PyQtWebEngine-5.15.4-cp36.cp37.cp38.cp39-abi3-manylinux2014_x86_64.whl (229 kB)\n",
            "\u001b[K     |████████████████████████████████| 229 kB 55.1 MB/s \n",
            "\u001b[?25hCollecting PyQt5!=5.15.1,>=5.12\n",
            "  Downloading PyQt5-5.15.4-cp36.cp37.cp38.cp39-abi3-manylinux2014_x86_64.whl (8.3 MB)\n",
            "\u001b[K     |████████████████████████████████| 8.3 MB 38.9 MB/s \n",
            "\u001b[?25hCollecting orange-canvas-core<0.2a,>=0.1.21\n",
            "  Downloading orange_canvas_core-0.1.22-py3-none-any.whl (489 kB)\n",
            "\u001b[K     |████████████████████████████████| 489 kB 38.5 MB/s \n",
            "\u001b[?25hCollecting openTSNE>=0.6.0\n",
            "  Downloading openTSNE-0.6.0-cp37-cp37m-manylinux2010_x86_64.whl (2.3 MB)\n",
            "\u001b[K     |████████████████████████████████| 2.3 MB 48.5 MB/s \n",
            "\u001b[?25hRequirement already satisfied: pandas>=1.0.0 in /usr/local/lib/python3.7/dist-packages (from orange3) (1.1.5)\n",
            "Collecting serverfiles\n",
            "  Downloading serverfiles-0.3.1.tar.gz (11 kB)\n",
            "Requirement already satisfied: bottleneck>=1.0.0 in /usr/local/lib/python3.7/dist-packages (from orange3) (1.3.2)\n",
            "Collecting pyqtgraph>=0.11.1\n",
            "  Downloading pyqtgraph-0.12.2-py3-none-any.whl (959 kB)\n",
            "\u001b[K     |████████████████████████████████| 959 kB 29.4 MB/s \n",
            "\u001b[?25hRequirement already satisfied: networkx in /usr/local/lib/python3.7/dist-packages (from orange3) (2.6.3)\n",
            "Requirement already satisfied: numpy>=1.16.0 in /usr/local/lib/python3.7/dist-packages (from orange3) (1.19.5)\n",
            "Requirement already satisfied: xlrd>=0.9.2 in /usr/local/lib/python3.7/dist-packages (from orange3) (1.1.0)\n",
            "Requirement already satisfied: setuptools>=36.3 in /usr/local/lib/python3.7/dist-packages (from orange3) (57.4.0)\n",
            "Collecting keyrings.alt\n",
            "  Downloading keyrings.alt-4.1.0-py3-none-any.whl (20 kB)\n",
            "Requirement already satisfied: python-louvain>=0.13 in /usr/local/lib/python3.7/dist-packages (from orange3) (0.15)\n",
            "Collecting keyring\n",
            "  Downloading keyring-23.2.1-py3-none-any.whl (33 kB)\n",
            "Collecting orange-widget-base>=4.13.0\n",
            "  Downloading orange_widget_base-4.14.0-py3-none-any.whl (253 kB)\n",
            "\u001b[K     |████████████████████████████████| 253 kB 50.2 MB/s \n",
            "\u001b[?25hRequirement already satisfied: openpyxl in /usr/local/lib/python3.7/dist-packages (from orange3) (2.5.9)\n",
            "Collecting httpx<0.17,>=0.14.0\n",
            "  Downloading httpx-0.16.1-py3-none-any.whl (65 kB)\n",
            "\u001b[K     |████████████████████████████████| 65 kB 3.6 MB/s \n",
            "\u001b[?25hRequirement already satisfied: joblib>=0.9.4 in /usr/local/lib/python3.7/dist-packages (from orange3) (1.0.1)\n",
            "Collecting sniffio\n",
            "  Downloading sniffio-1.2.0-py3-none-any.whl (10 kB)\n",
            "Collecting httpcore==0.12.*\n",
            "  Downloading httpcore-0.12.3-py3-none-any.whl (55 kB)\n",
            "\u001b[K     |████████████████████████████████| 55 kB 4.3 MB/s \n",
            "\u001b[?25hCollecting rfc3986[idna2008]<2,>=1.3\n",
            "  Downloading rfc3986-1.5.0-py2.py3-none-any.whl (31 kB)\n",
            "Requirement already satisfied: certifi in /usr/local/lib/python3.7/dist-packages (from httpx<0.17,>=0.14.0->orange3) (2021.5.30)\n",
            "Collecting h11==0.*\n",
            "  Downloading h11-0.12.0-py3-none-any.whl (54 kB)\n",
            "\u001b[K     |████████████████████████████████| 54 kB 3.2 MB/s \n",
            "\u001b[?25hRequirement already satisfied: pyparsing!=2.0.4,!=2.1.2,!=2.1.6,>=2.0.1 in /usr/local/lib/python3.7/dist-packages (from matplotlib>=2.0.0->orange3) (2.4.7)\n",
            "Requirement already satisfied: kiwisolver>=1.0.1 in /usr/local/lib/python3.7/dist-packages (from matplotlib>=2.0.0->orange3) (1.3.2)\n",
            "Requirement already satisfied: python-dateutil>=2.1 in /usr/local/lib/python3.7/dist-packages (from matplotlib>=2.0.0->orange3) (2.8.2)\n",
            "Requirement already satisfied: cycler>=0.10 in /usr/local/lib/python3.7/dist-packages (from matplotlib>=2.0.0->orange3) (0.10.0)\n",
            "Requirement already satisfied: six in /usr/local/lib/python3.7/dist-packages (from cycler>=0.10->matplotlib>=2.0.0->orange3) (1.15.0)\n",
            "Collecting commonmark>=0.8.1\n",
            "  Downloading commonmark-0.9.1-py2.py3-none-any.whl (51 kB)\n",
            "\u001b[K     |████████████████████████████████| 51 kB 7.1 MB/s \n",
            "\u001b[?25hRequirement already satisfied: docutils in /usr/local/lib/python3.7/dist-packages (from orange-canvas-core<0.2a,>=0.1.21->orange3) (0.17.1)\n",
            "Requirement already satisfied: cachecontrol[filecache] in /usr/local/lib/python3.7/dist-packages (from orange-canvas-core<0.2a,>=0.1.21->orange3) (0.12.6)\n",
            "Requirement already satisfied: importlib-metadata in /usr/local/lib/python3.7/dist-packages (from orange-canvas-core<0.2a,>=0.1.21->orange3) (4.8.1)\n",
            "Collecting dictdiffer\n",
            "  Downloading dictdiffer-0.9.0-py2.py3-none-any.whl (16 kB)\n",
            "Collecting qasync\n",
            "  Downloading qasync-0.22.0-py3-none-any.whl (13 kB)\n",
            "Requirement already satisfied: typing-extensions>=3.7.4.3 in /usr/local/lib/python3.7/dist-packages (from orange-widget-base>=4.13.0->orange3) (3.7.4.3)\n",
            "Requirement already satisfied: pytz>=2017.2 in /usr/local/lib/python3.7/dist-packages (from pandas>=1.0.0->orange3) (2018.9)\n",
            "Collecting PyQt5-Qt5>=5.15\n",
            "  Downloading PyQt5_Qt5-5.15.2-py3-none-manylinux2014_x86_64.whl (59.9 MB)\n",
            "\u001b[K     |████████████████████████████████| 59.9 MB 40 kB/s \n",
            "\u001b[?25hCollecting PyQt5-sip<13,>=12.8\n",
            "  Downloading PyQt5_sip-12.9.0-cp37-cp37m-manylinux1_x86_64.whl (317 kB)\n",
            "\u001b[K     |████████████████████████████████| 317 kB 49.6 MB/s \n",
            "\u001b[?25hCollecting PyQtWebEngine-Qt5>=5.15\n",
            "  Downloading PyQtWebEngine_Qt5-5.15.2-py3-none-manylinux2014_x86_64.whl (67.5 MB)\n",
            "\u001b[K     |████████████████████████████████| 67.5 MB 43 kB/s \n",
            "\u001b[?25hRequirement already satisfied: idna in /usr/local/lib/python3.7/dist-packages (from rfc3986[idna2008]<2,>=1.3->httpx<0.17,>=0.14.0->orange3) (2.10)\n",
            "Requirement already satisfied: msgpack>=0.5.2 in /usr/local/lib/python3.7/dist-packages (from cachecontrol[filecache]->orange-canvas-core<0.2a,>=0.1.21->orange3) (1.0.2)\n",
            "Collecting lockfile>=0.9\n",
            "  Downloading lockfile-0.12.2-py2.py3-none-any.whl (13 kB)\n",
            "Requirement already satisfied: zipp>=0.5 in /usr/local/lib/python3.7/dist-packages (from importlib-metadata->orange-canvas-core<0.2a,>=0.1.21->orange3) (3.5.0)\n",
            "Collecting jeepney>=0.4.2\n",
            "  Downloading jeepney-0.7.1-py3-none-any.whl (54 kB)\n",
            "\u001b[K     |████████████████████████████████| 54 kB 2.7 MB/s \n",
            "\u001b[?25hCollecting SecretStorage>=3.2\n",
            "  Downloading SecretStorage-3.3.1-py3-none-any.whl (15 kB)\n",
            "Collecting cryptography>=2.0\n",
            "  Downloading cryptography-3.4.8-cp36-abi3-manylinux_2_24_x86_64.whl (3.0 MB)\n",
            "\u001b[K     |████████████████████████████████| 3.0 MB 52.0 MB/s \n",
            "\u001b[?25hRequirement already satisfied: cffi>=1.12 in /usr/local/lib/python3.7/dist-packages (from cryptography>=2.0->SecretStorage>=3.2->keyring->orange3) (1.14.6)\n",
            "Requirement already satisfied: pycparser in /usr/local/lib/python3.7/dist-packages (from cffi>=1.12->cryptography>=2.0->SecretStorage>=3.2->keyring->orange3) (2.20)\n",
            "Requirement already satisfied: et-xmlfile in /usr/local/lib/python3.7/dist-packages (from openpyxl->orange3) (1.1.0)\n",
            "Requirement already satisfied: jdcal in /usr/local/lib/python3.7/dist-packages (from openpyxl->orange3) (1.4.1)\n",
            "Requirement already satisfied: urllib3!=1.25.0,!=1.25.1,<1.26,>=1.21.1 in /usr/local/lib/python3.7/dist-packages (from requests->orange3) (1.24.3)\n",
            "Building wheels for collected packages: serverfiles\n",
            "  Building wheel for serverfiles (setup.py) ... \u001b[?25l\u001b[?25hdone\n",
            "  Created wheel for serverfiles: filename=serverfiles-0.3.1-py3-none-any.whl size=6947 sha256=b4f01a7d6c4879e5a379787e12981e174c4f45d375ead72e14f25547ba0dd6bf\n",
            "  Stored in directory: /root/.cache/pip/wheels/f4/36/15/fcfe21874746d5cd17c18b1e5501fbf86544da90d4ab6afe17\n",
            "Successfully built serverfiles\n",
            "Installing collected packages: lockfile, sniffio, rfc3986, qasync, PyQt5-sip, PyQt5-Qt5, jeepney, h11, dictdiffer, cryptography, commonmark, AnyQt, SecretStorage, PyQtWebEngine-Qt5, pyqtgraph, PyQt5, orange-canvas-core, httpcore, xlsxwriter, serverfiles, PyQtWebEngine, orange-widget-base, openTSNE, keyrings.alt, keyring, httpx, baycomp, orange3\n",
            "Successfully installed AnyQt-0.0.13 PyQt5-5.15.4 PyQt5-Qt5-5.15.2 PyQt5-sip-12.9.0 PyQtWebEngine-5.15.4 PyQtWebEngine-Qt5-5.15.2 SecretStorage-3.3.1 baycomp-1.0.2 commonmark-0.9.1 cryptography-3.4.8 dictdiffer-0.9.0 h11-0.12.0 httpcore-0.12.3 httpx-0.16.1 jeepney-0.7.1 keyring-23.2.1 keyrings.alt-4.1.0 lockfile-0.12.2 openTSNE-0.6.0 orange-canvas-core-0.1.22 orange-widget-base-4.14.0 orange3-3.29.3 pyqtgraph-0.12.2 qasync-0.22.0 rfc3986-1.5.0 serverfiles-0.3.1 sniffio-1.2.0 xlsxwriter-3.0.1\n"
          ]
        }
      ]
    },
    {
      "cell_type": "code",
      "metadata": {
        "id": "Sn9AvVIbjLTT"
      },
      "source": [
        "import Orange"
      ],
      "execution_count": 4,
      "outputs": []
    },
    {
      "cell_type": "code",
      "metadata": {
        "colab": {
          "base_uri": "https://localhost:8080/"
        },
        "id": "y1aetCMSjQej",
        "outputId": "7bb87704-ada6-4ffd-bbb3-0d0814a256f9"
      },
      "source": [
        "##Discretization\n",
        "brown = Orange.data.Table(\"brown-selected.tab\")\n",
        "disc = Orange.preprocess.Discretize()\n",
        "disc.method = Orange.preprocess.discretize.EqualFreq(n=3)\n",
        "d_brown = disc(brown)\n",
        "\n",
        "print(\"Dataset Before Discretization :\")\n",
        "for e in brown[:3]:\n",
        "    print(e)\n",
        "\n",
        "print(\"Dataset After Discretization:\")\n",
        "for e in d_brown[:3]:\n",
        "    print(e)"
      ],
      "execution_count": 12,
      "outputs": [
        {
          "output_type": "stream",
          "name": "stdout",
          "text": [
            "Dataset Before Discretization :\n",
            "[?, -0.023, 0.057, 0.007, 0.018, -0.057, 0.009, -0.034, -0.016, -0.046, 0.060, -0.007, 0.007, -0.092, 0.057, -0.009, -0.009, -0.067, -0.051, -0.092, -0.023, -0.057, -0.041, -0.097, -0.083, -0.053, ?, -0.046, -0.138, -0.002, -0.039, -0.083, -0.057, -0.067, -0.074, -0.099, -0.193, -0.108, -0.069, -0.108, -0.099, -0.170, -0.138, 0.083, -0.099, -0.051, -0.154, -0.099, -0.014, 0.179, 0.257, 0.232, 0.209, -0.182, 0.016, -0.028, 0.133, 0.297, 0.076, 0.018, 0.124, 0.179, 0.016, 0.368, -0.083, -0.057, -0.051, -0.193, 0.131, 0.099, 0.274, 0.117, -0.041, -0.032, -0.051, -0.021, -0.023, -0.083, -0.032 | Proteas] {YGR270W}\n",
            "[-0.031, -0.031, -0.060, 0.037, -0.071, -0.018, -0.026, -0.052, 0.018, 0.052, 0.055, -0.026, -0.037, -0.084, -0.071, -0.016, -0.134, -0.058, 0.087, 0.068, -0.134, -0.110, -0.157, -0.089, -0.037, 0.055, 0.055, 0.052, -0.024, 0.073, 0.076, 0.060, -0.089, -0.128, -0.152, -0.039, 0.016, 0.026, 0.026, 0.010, -0.008, 0.042, 0.018, -0.123, 0.089, 0.026, 0.063, -0.031, 0.026, 0.199, 0.149, 0.021, -0.024, -0.194, -0.079, -0.443, 0.184, 0.490, -0.052, 0.073, 0.102, 0.128, -0.010, -0.045, -0.076, -0.008, 0.113, 0.016, -0.066, -0.212, -0.176, -0.176, 0.031, -0.024, 0.018, 0.003, -0.008, 0.021, -0.113 | Proteas] {YIL075C}\n",
            "[-0.013, ?, 0.067, -0.025, 0.017, 0.008, -0.042, 0.013, 0.111, 0.015, 0.140, 0.065, -0.019, -0.031, -0.025, 0.084, -0.038, 0.013, 0.088, 0.050, -0.117, 0.025, -0.084, -0.057, -0.008, 0.078, -0.002, 0.006, -0.038, 0.063, 0.061, 0.063, ?, 0.140, 0.017, -0.159, -0.130, -0.121, -0.025, 0.189, -0.029, -0.256, -0.061, 0.038, -0.145, -0.029, -0.094, 0.038, 0.209, 0.279, 0.218, 0.094, 0.075, 0.044, -0.052, -0.170, 0.276, 0.450, -0.061, -0.008, 0.044, 0.040, -0.088, -0.061, 0.113, 0.149, 0.124, 0.080, -0.063, -0.052, 0.161, 0.034, 0.096, 0.048, 0.065, -0.013, -0.075, 0.216, 0.038 | Proteas] {YDL007W}\n",
            "Dataset After Discretization:\n",
            "[?, -0.04150 - -0.00550, ≥ 0, -0.02950 - 0.0075, ≥ -0.00650, < -0.04050, -0.020 - 0.0115, < -0.027, < -0.00550, < -0.02150, ≥ 0.032, ≥ -0.00950, -0.00950 - 0.0185, < -0.05450, ≥ 0.04, -0.02550 - 0.0135, -0.01350 - 0.0275, < -0.031, -0.079 - 0.0025, < -0.02550, < -0.01350, < 0.0025, < 0.0165, < 0.011, < 0, < 0.0305, ?, < 0.0065, < -0.00250, < 0.0035, < -0.024, < -0.02350, -0.07050 - -0.03150, < -0.046, < -0.01750, < -0.00150, < -0.01850, < 0.0045, < 0.0145, < 0.0275, < -0.002, < -0.03050, < 0.0095, ≥ 0.0645, < -0.02450, < -0.027, < -0.020, < -0.028, ≥ -0.08450, ≥ -0.09650, ≥ -0.142, ≥ -0.11150, ≥ -0.06850, < 0, ≥ -0.02450, -0.07150 - 0.1295, ≥ -0.151, ≥ -0.19950, ≥ -0.01450, ≥ -0.05450, ≥ -0.073, ≥ -0.15150, ≥ -0.08650, ≥ -0.08450, < 0.0165, < -0.02550, -0.08050 - -0.04250, < -0.14550, ≥ -0.00450, ≥ -0.00550, ≥ -0.059, ≥ -0.129, < 0.0115, < -0.01150, < 0.0135, -0.03750 - 0.0045, -0.04250 - -0.006, -0.17850 - -0.01050, ≥ -0.17150 | Proteas] {YGR270W}\n",
            "[< -0.01550, -0.04150 - -0.00550, < -0.029, ≥ 0.0075, < -0.03950, -0.04050 - -0.00150, < -0.020, < -0.027, -0.00550 - 0.0265, ≥ 0.0095, ≥ 0.032, -0.03450 - -0.00950, < -0.00950, < -0.05450, < -0.005, -0.02550 - 0.0135, < -0.01350, < -0.031, ≥ 0.0025, ≥ 0.02, < -0.01350, < 0.0025, < 0.0165, < 0.011, < 0, 0.0305 - 0.073, ≥ 0.0465, ≥ 0.0515, < -0.00250, ≥ 0.037, ≥ 0.0125, ≥ 0.0125, < -0.07050, < -0.046, < -0.01750, < -0.00150, -0.01850 - 0.0515, 0.0045 - 0.0515, 0.0145 - 0.0455, < 0.0275, < -0.002, ≥ 0.0125, 0.0095 - 0.0465, < 0.0095, ≥ 0.0505, -0.027 - 0.04, -0.020 - 0.076, < -0.028, ≥ -0.08450, ≥ -0.09650, ≥ -0.142, ≥ -0.11150, ≥ -0.06850, < 0, < -0.05950, < -0.07150, ≥ -0.151, ≥ -0.19950, < -0.045, ≥ -0.05450, ≥ -0.073, ≥ -0.15150, ≥ -0.08650, ≥ -0.08450, < 0.0165, -0.02550 - 0.0275, ≥ -0.04250, ≥ -0.09850, < -0.04950, < -0.04350, < -0.13150, -0.21950 - -0.129, ≥ 0.0285, < -0.01150, 0.0135 - 0.0475, -0.03750 - 0.0045, -0.04250 - -0.006, ≥ -0.01050, ≥ -0.17150 | Proteas] {YIL075C}\n",
            "[-0.01550 - 0.0155, ?, ≥ 0, -0.02950 - 0.0075, ≥ -0.00650, ≥ -0.00150, < -0.020, -0.027 - 0.0145, ≥ 0.0265, ≥ 0.0095, ≥ 0.032, ≥ -0.00950, < -0.00950, -0.05450 - -0.019, < -0.005, ≥ 0.0135, < -0.01350, ≥ 0.004, ≥ 0.0025, ≥ 0.02, < -0.01350, 0.0025 - 0.063, < 0.0165, < 0.011, < 0, ≥ 0.073, < 0.0135, < 0.0065, < -0.00250, ≥ 0.037, ≥ 0.0125, ≥ 0.0125, ?, ≥ 0.0055, -0.01750 - 0.0225, < -0.00150, < -0.01850, < 0.0045, < 0.0145, ≥ 0.0625, < -0.002, < -0.03050, < 0.0095, 0.0095 - 0.0645, < -0.02450, < -0.027, < -0.020, ≥ 0.0025, ≥ -0.08450, ≥ -0.09650, ≥ -0.142, ≥ -0.11150, ≥ -0.06850, 0 - 0.0455, -0.05950 - -0.02450, < -0.07150, ≥ -0.151, ≥ -0.19950, < -0.045, ≥ -0.05450, ≥ -0.073, ≥ -0.15150, -0.13350 - -0.08650, ≥ -0.08450, ≥ 0.0555, ≥ 0.0275, ≥ -0.04250, ≥ -0.09850, < -0.04950, < -0.04350, ≥ -0.059, ≥ -0.129, ≥ 0.0285, ≥ 0.0175, ≥ 0.0475, -0.03750 - 0.0045, < -0.04250, ≥ -0.01050, ≥ -0.17150 | Proteas] {YDL007W}\n"
          ]
        }
      ]
    },
    {
      "cell_type": "code",
      "metadata": {
        "colab": {
          "base_uri": "https://localhost:8080/"
        },
        "id": "95XSi_QloNmO",
        "outputId": "d7b18428-e536-487d-a28e-27722e57dd62"
      },
      "source": [
        "\n",
        "#continuization\n",
        "titanic = Orange.data.Table(\"titanic\")\n",
        "continuizer = Orange.preprocess.Continuize()\n",
        "titanic1 = continuizer(titanic)\n",
        "\n",
        "print('before continuization',titanic.domain)\n",
        "print('after continuization',titanic1.domain)\n",
        "\n",
        "print('5th row of data before : ',titanic[5])\n",
        "print('5th row of data after : ',titanic1[5])"
      ],
      "execution_count": 14,
      "outputs": [
        {
          "output_type": "stream",
          "name": "stdout",
          "text": [
            "before continuization [status, age, sex | survived]\n",
            "after continuization [status=crew, status=first, status=second, status=third, age=adult, age=child, sex=female, sex=male | survived]\n",
            "5th row of data before :  [first, adult, male | yes]\n",
            "5th row of data after :  [0, 1, 0, 0, 1, 0, 0, 1 | yes]\n"
          ]
        }
      ]
    },
    {
      "cell_type": "code",
      "metadata": {
        "colab": {
          "base_uri": "https://localhost:8080/"
        },
        "id": "ZVdJhP77pEpw",
        "outputId": "cf14e34e-d819-4b27-9262-159b85332f36"
      },
      "source": [
        "#normalization\n",
        "from Orange.preprocess import Normalize\n",
        "irisdata = Orange.data.Table(\"iris.tab\")\n",
        "normalizer = Normalize(norm_type=Normalize.NormalizeBySpan)\n",
        "normalized_data = normalizer(irisdata)\n",
        "print(\"Before Normalization: \",irisdata[2])\n",
        "print(\"After noramlization: \",normalized_data[2])"
      ],
      "execution_count": 18,
      "outputs": [
        {
          "output_type": "stream",
          "name": "stdout",
          "text": [
            "Before Normalization:  [4.7, 3.2, 1.3, 0.2 | Iris-setosa]\n",
            "After noramlization:  [0.1111, 0.50, 0.0508, 0.0417 | Iris-setosa]\n"
          ]
        }
      ]
    },
    {
      "cell_type": "code",
      "metadata": {
        "colab": {
          "base_uri": "https://localhost:8080/"
        },
        "id": "o6PDFRaXp1r6",
        "outputId": "1706e9c2-1c2a-4234-9b15-c28c64d30a02"
      },
      "source": [
        "#randomization\n",
        "from Orange.preprocess import Randomize\n",
        "irisdata = Orange.data.Table(\"iris.tab\")\n",
        "randomizer = Randomize(Randomize.RandomizeClasses)\n",
        "randomized_data = randomizer(irisdata)\n",
        "print(\"Before Randomization: \",irisdata[2])\n",
        "print(\"After Randomization: \",randomized_data[2])"
      ],
      "execution_count": 22,
      "outputs": [
        {
          "output_type": "stream",
          "name": "stdout",
          "text": [
            "Before Randomization:  [4.7, 3.2, 1.3, 0.2 | Iris-setosa]\n",
            "After Randomization:  [4.7, 3.2, 1.3, 0.2 | Iris-versicolor]\n"
          ]
        }
      ]
    }
  ]
}